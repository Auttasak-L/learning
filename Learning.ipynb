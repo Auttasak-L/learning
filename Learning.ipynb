{
  "nbformat": 4,
  "nbformat_minor": 0,
  "metadata": {
    "colab": {
      "provenance": [],
      "toc_visible": true,
      "authorship_tag": "ABX9TyOnMICYB/Ccgt5gPKnBZww5",
      "include_colab_link": true
    },
    "kernelspec": {
      "name": "python3",
      "display_name": "Python 3"
    },
    "language_info": {
      "name": "python"
    }
  },
  "cells": [
    {
      "cell_type": "markdown",
      "metadata": {
        "id": "view-in-github",
        "colab_type": "text"
      },
      "source": [
        "<a href=\"https://colab.research.google.com/github/Auttasak-L/learning/blob/main/Learning.ipynb\" target=\"_parent\"><img src=\"https://colab.research.google.com/assets/colab-badge.svg\" alt=\"Open In Colab\"/></a>"
      ]
    },
    {
      "cell_type": "markdown",
      "source": [
        "# Chapter: [1] Hello world"
      ],
      "metadata": {
        "id": "58n5p0vgBfhp"
      }
    },
    {
      "cell_type": "code",
      "source": [
        "# Setup\n",
        "!pip install tensorflow"
      ],
      "metadata": {
        "id": "U3S-NDq7Brrd"
      },
      "execution_count": null,
      "outputs": []
    },
    {
      "cell_type": "code",
      "source": [
        "import tensorflow as tf\n",
        "\n",
        "# Compile the model\n",
        "model = tf.keras.Sequential([tf.keras.layers.Dense(units=1, input_shape=[1])])\n",
        "model.compile(optimizer=\"sgd\", loss=\"mean_squared_error\")"
      ],
      "metadata": {
        "id": "BxFTeKxG5yCT"
      },
      "execution_count": 15,
      "outputs": []
    },
    {
      "cell_type": "code",
      "source": [
        "import numpy as np\n",
        "\n",
        "# Train the model\n",
        "xs = np.array([0.0, 1.0, 2.0, 3.0, 4.0], dtype=float)\n",
        "ys = np.array([1.0, 3.0, 5.0, 7.0, 9.0], dtype=float)\n",
        "model.fit(xs, ys, epochs=500)"
      ],
      "metadata": {
        "id": "p1rtL9RGB2b0"
      },
      "execution_count": null,
      "outputs": []
    },
    {
      "cell_type": "code",
      "source": [
        "# Predict the result\n",
        "model.predict([5.0, 6.0])"
      ],
      "metadata": {
        "id": "wribJCsm80lp"
      },
      "execution_count": null,
      "outputs": []
    }
  ]
}